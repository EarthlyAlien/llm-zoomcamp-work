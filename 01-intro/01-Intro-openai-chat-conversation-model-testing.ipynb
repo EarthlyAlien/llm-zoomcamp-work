{
 "cells": [
  {
   "cell_type": "code",
   "execution_count": 1,
   "id": "9024c57a-6452-452d-a2c1-5503c9130e88",
   "metadata": {},
   "outputs": [],
   "source": [
    "import openai\n",
    "from openai import OpenAI"
   ]
  },
  {
   "cell_type": "code",
   "execution_count": 3,
   "id": "6574ca42-1b12-4af6-a9a6-18f0b50897f9",
   "metadata": {},
   "outputs": [],
   "source": [
    "client = OpenAI()"
   ]
  },
  {
   "cell_type": "code",
   "execution_count": null,
   "id": "47351a9a-25be-494f-8c83-2d85b46559eb",
   "metadata": {},
   "outputs": [],
   "source": [
    "# Check Environment Variables\n",
    "import os\n",
    "os.environ"
   ]
  },
  {
   "cell_type": "code",
   "execution_count": 8,
   "id": "2541f201-84c2-4a70-985a-d028c4d010be",
   "metadata": {},
   "outputs": [],
   "source": [
    "response = client.chat.completions.create(\n",
    "    model='gpt-4o',\n",
    "    messages=[{\"role\": \"user\", \"content\": \"how are you doing all this ChatGPT?\"}]\n",
    ")"
   ]
  },
  {
   "cell_type": "code",
   "execution_count": 10,
   "id": "b599dbf9-96cb-449b-8c5c-092df58031bf",
   "metadata": {},
   "outputs": [
    {
     "data": {
      "text/plain": [
       "\"Thank you for asking! As an artificial intelligence, I don't have feelings or physical sensations, but I'm here to assist you with any information or tasks you need help with. My responses are generated based on patterns and data from the information I've been trained on, which includes a diverse range of text up to my knowledge cutoff date in October 2021. How can I assist you today?\""
      ]
     },
     "execution_count": 10,
     "metadata": {},
     "output_type": "execute_result"
    }
   ],
   "source": [
    "response.choices[0].message.content"
   ]
  },
  {
   "cell_type": "code",
   "execution_count": null,
   "id": "edd6f42c-b9ba-4b2a-92bb-5c567c412168",
   "metadata": {},
   "outputs": [],
   "source": []
  }
 ],
 "metadata": {
  "kernelspec": {
   "display_name": "Python 3 (ipykernel)",
   "language": "python",
   "name": "python3"
  },
  "language_info": {
   "codemirror_mode": {
    "name": "ipython",
    "version": 3
   },
   "file_extension": ".py",
   "mimetype": "text/x-python",
   "name": "python",
   "nbconvert_exporter": "python",
   "pygments_lexer": "ipython3",
   "version": "3.10.13"
  }
 },
 "nbformat": 4,
 "nbformat_minor": 5
}
